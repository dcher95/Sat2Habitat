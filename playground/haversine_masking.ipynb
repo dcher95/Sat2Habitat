{
 "cells": [
  {
   "cell_type": "markdown",
   "metadata": {},
   "source": [
    "# Get the haversine masking to work"
   ]
  },
  {
   "cell_type": "code",
   "execution_count": 25,
   "metadata": {},
   "outputs": [
    {
     "name": "stdout",
     "output_type": "stream",
     "text": [
      "The autoreload extension is already loaded. To reload it, use:\n",
      "  %reload_ext autoreload\n"
     ]
    }
   ],
   "source": [
    "%load_ext autoreload\n",
    "%autoreload 2"
   ]
  },
  {
   "cell_type": "code",
   "execution_count": 38,
   "metadata": {},
   "outputs": [],
   "source": [
    "import sys\n",
    "sys.path.append('../sat2habitat')\n",
    "import crisp\n",
    "from datasets import SatHabData\n",
    "from config import config\n",
    "from torch.utils.data import DataLoader\n",
    "from crisp import create_distance_mask, haversine_distances"
   ]
  },
  {
   "cell_type": "code",
   "execution_count": 46,
   "metadata": {},
   "outputs": [],
   "source": [
    "im_dir = config.im_dir\n",
    "im_dir_val = config.im_dir_val\n",
    "train_csv_path = config.train_csv_path\n",
    "val_csv_path = config.val_csv_path\n",
    "    \n",
    "# Import dataset\n",
    "train_dataset = SatHabData(im_dir, train_csv_path)\n",
    "\n",
    "train_loader = DataLoader(train_dataset, batch_size=256, shuffle=True)\n",
    "\n",
    "# Take a single batch of size 64\n",
    "im_embeds, text_embeds, coords, *_ = next(iter(train_loader))\n",
    "\n",
    "# Create a haversine distance mask\n",
    "\n",
    "# Is this calculated correctly in the model?"
   ]
  },
  {
   "cell_type": "code",
   "execution_count": 47,
   "metadata": {},
   "outputs": [
    {
     "data": {
      "text/plain": [
       "tensor([[      0.0000,  740293.7905,  878497.8492,  ..., 3211751.8995,\n",
       "          616226.5562,  782195.9547],\n",
       "        [ 740293.7905,       0.0000,  548791.6458,  ..., 2598144.1675,\n",
       "         1355170.7637,  952859.6788],\n",
       "        [ 878497.8492,  548791.6458,       0.0000,  ..., 2345117.1222,\n",
       "         1390499.0740, 1409043.9576],\n",
       "        ...,\n",
       "        [3211751.8995, 2598144.1675, 2345117.1222,  ...,       0.0000,\n",
       "         3728953.4215, 3525629.3753],\n",
       "        [ 616226.5562, 1355170.7637, 1390499.0740,  ..., 3728953.4215,\n",
       "               0.0000, 1131631.9007],\n",
       "        [ 782195.9547,  952859.6788, 1409043.9576,  ..., 3525629.3753,\n",
       "         1131631.9007,       0.0000]], dtype=torch.float64)"
      ]
     },
     "execution_count": 47,
     "metadata": {},
     "output_type": "execute_result"
    }
   ],
   "source": [
    "haversine_distances(coords)"
   ]
  },
  {
   "cell_type": "code",
   "execution_count": 51,
   "metadata": {},
   "outputs": [
    {
     "data": {
      "text/plain": [
       "tensor([[1., 0., 0.,  ..., 0., 0., 0.],\n",
       "        [0., 1., 0.,  ..., 0., 0., 0.],\n",
       "        [0., 0., 1.,  ..., 0., 0., 0.],\n",
       "        ...,\n",
       "        [0., 0., 0.,  ..., 1., 0., 0.],\n",
       "        [0., 0., 0.,  ..., 0., 1., 0.],\n",
       "        [0., 0., 0.,  ..., 0., 0., 1.]])"
      ]
     },
     "execution_count": 51,
     "metadata": {},
     "output_type": "execute_result"
    }
   ],
   "source": [
    "crisp.create_distance_mask(coords, distance_threshold = 250)"
   ]
  },
  {
   "cell_type": "code",
   "execution_count": null,
   "metadata": {},
   "outputs": [],
   "source": []
  }
 ],
 "metadata": {
  "kernelspec": {
   "display_name": "Python (clippatch)",
   "language": "python",
   "name": "clippatch"
  },
  "language_info": {
   "codemirror_mode": {
    "name": "ipython",
    "version": 3
   },
   "file_extension": ".py",
   "mimetype": "text/x-python",
   "name": "python",
   "nbconvert_exporter": "python",
   "pygments_lexer": "ipython3",
   "version": "3.10.11"
  }
 },
 "nbformat": 4,
 "nbformat_minor": 2
}
