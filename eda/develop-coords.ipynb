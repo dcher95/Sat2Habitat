{
 "cells": [
  {
   "cell_type": "markdown",
   "metadata": {},
   "source": [
    "# TODO\n",
    "- Parallelize cluster_approach over states\n",
    "- Parallelize grid_approach over states\n",
    "- Make two different .py files: cluster approach, grid approach.\n",
    "- Make into folder: generating 'bounding_boxes'\n",
    "\n",
    "- Make a separate prep_herb.py\n",
    "\n",
    "- Correct eps size into haversine distance calculations"
   ]
  },
  {
   "cell_type": "code",
   "execution_count": 2,
   "metadata": {},
   "outputs": [],
   "source": [
    "%load_ext autoreload\n",
    "%autoreload 2"
   ]
  },
  {
   "cell_type": "code",
   "execution_count": 3,
   "metadata": {},
   "outputs": [],
   "source": [
    "import pandas as pd"
   ]
  },
  {
   "cell_type": "code",
   "execution_count": 2,
   "metadata": {},
   "outputs": [
    {
     "name": "stderr",
     "output_type": "stream",
     "text": [
      "/tmp/ipykernel_329770/903731494.py:2: DtypeWarning: Columns (49,56,57,59,60,61,63,64,65,66,67,68,73,74,77,78,79,83,89,91,92,95,97,98,99,100,101,102,103,105,106,107,111,112,113,114,115,116,117,118,119,120,121,122,123,124,125,126,127,128,129,130,131,132,135,137,138,140,141,142,143,144,145,146,147,149,150,151,152,153,154,155,160,162,163,164,167,168,171,173,174,177,178,182,183,184,185,186,189,190,191,192,193,194,195,196,197,198,199,200,204,208,209,210,211,220,221) have mixed types. Specify dtype option on import or set low_memory=False.\n",
      "  occ = pd.read_csv(\"/data/cher/universe7/herbarium/data/MO-herbarium/occurrence.txt\", sep=\"\\t\", on_bad_lines='skip')\n"
     ]
    }
   ],
   "source": [
    "# Get Herbarium data. Find some candidate locations.\n",
    "occ = pd.read_csv(\"/data/cher/universe7/herbarium/data/MO-herbarium/occurrence.txt\", sep=\"\\t\", on_bad_lines='skip')\n",
    "occ = occ[[\n",
    "    'gbifID', 'occurrenceID', # Joining Keys\n",
    "    'speciesKey', 'species', # species\n",
    "    'year', 'month', 'day', # date\n",
    "    'habitat', 'locality', # descriptive text. I think this is most of the route / habitat info we would want. Looks like already OCR processed?\n",
    "    'countryCode', 'stateProvince', 'county', 'municipality', # administrative\n",
    "    'georeferenceSources','hasCoordinate', 'hasGeospatialIssues' ,'decimalLatitude', 'decimalLongitude']] # geospatial\n",
    "    # 'level0Gid', 'level0Name', 'level1Gid', 'level1Name', 'level2Gid', 'level2Name', 'level3Gid', 'level3Name',]] # Has NAs. Above is more reliable.\n",
    "\n",
    "habitat_info = occ[~occ['habitat'].isna()].copy()"
   ]
  },
  {
   "cell_type": "code",
   "execution_count": 4,
   "metadata": {},
   "outputs": [],
   "source": [
    "# Random location\n",
    "random_row = habitat_info[~habitat_info['habitat'].isna()].iloc[-4]\n",
    "lat, lon = random_row['decimalLatitude'], random_row['decimalLongitude']"
   ]
  },
  {
   "cell_type": "markdown",
   "metadata": {},
   "source": [
    "NAIP \n",
    "- Only 3 band RGB through WMS"
   ]
  },
  {
   "cell_type": "code",
   "execution_count": 13,
   "metadata": {},
   "outputs": [
    {
     "data": {
      "text/plain": [
       "('/data/cher/universe7/herbarium/data/naip/1.tiff',\n",
       " <http.client.HTTPMessage at 0x7f105f5980e0>)"
      ]
     },
     "execution_count": 13,
     "metadata": {},
     "output_type": "execute_result"
    }
   ],
   "source": [
    "import urllib.request\n",
    "import rasterio\n",
    "import matplotlib.pyplot as plt\n",
    "import numpy as np\n",
    "\n",
    "\n",
    "image_url = f\"https://basemap.nationalmap.gov/arcgis/services/USGSImageryOnly/MapServer/WMSServer?service=WMS&version=1.1.1&request=GetMap&layers=0&styles=&width=256&height=256&srs=EPSG:4326&bbox={lon-0.005},{lat-0.005},{lon+0.005},{lat+0.005}&format=image/png\"\n",
    "out_file = f'/data/cher/universe7/herbarium/data/naip/1.png'\n",
    "\n",
    "urllib.request.urlretrieve(image_url, out_file)\n",
    "\n",
    "with rasterio.open(out_file) as src:\n",
    "    # Get the number of bands\n",
    "    num_bands = src.count\n",
    "    print(f'The TIFF file has {num_bands} bands.')"
   ]
  },
  {
   "cell_type": "markdown",
   "metadata": {},
   "source": [
    "Sentinel2\n",
    "- Create csv file to push into CVGlobal \n",
    "    1) Cluster points state-by-state using DBSCAN into max areas of 512 x 512 meters --> cell\n",
    "    2) Find center point of each cell"
   ]
  },
  {
   "cell_type": "markdown",
   "metadata": {},
   "source": [
    "#### USA"
   ]
  },
  {
   "cell_type": "code",
   "execution_count": 3,
   "metadata": {},
   "outputs": [],
   "source": [
    "import pandas as pd\n",
    "import geopandas as gpd\n",
    "from shapely.geometry import Point, box\n",
    "from sklearn.cluster import DBSCAN\n",
    "import numpy as np\n",
    "from tqdm import tqdm\n",
    "import os"
   ]
  },
  {
   "cell_type": "markdown",
   "metadata": {},
   "source": [
    "1) DBSCAN still generates clustered grid cells outside of 512 meters.\n",
    "- Instead we will do the following --> \n",
    "    1) generate DBSCAN clusters. Find points within those centers. \n",
    "    2) Points outside centers --> DBSCAN. Find points within those centers.\n",
    "\n",
    "2) Fast --> Create grid for state. Find overlap of points. Return just those grids"
   ]
  },
  {
   "cell_type": "code",
   "execution_count": 134,
   "metadata": {},
   "outputs": [
    {
     "name": "stdout",
     "output_type": "stream",
     "text": [
      "state_cluster\n",
      "Michigan    788\n",
      "Name: count, dtype: int64 state_cluster\n",
      "Michigan    4479\n",
      "Name: count, dtype: int64 state_cluster\n",
      "Michigan    5.68401\n",
      "Name: count, dtype: float64\n"
     ]
    },
    {
     "data": {
      "text/plain": [
       "state_cluster\n",
       "Michigan    5.68401\n",
       "Name: count, dtype: float64"
      ]
     },
     "metadata": {},
     "output_type": "display_data"
    }
   ],
   "source": [
    "# Get general info.\n",
    "num_bbox_per_state = clusters['state_cluster'].str.split('_').str[0].value_counts()\n",
    "num_images_per_state = cluster_assignments['state_cluster'].str.split('_').str[0].value_counts()\n",
    "num_images_per_cluster = num_images_per_state / num_bbox_per_state\n",
    "\n",
    "print(num_bbox_per_state, num_images_per_state, num_images_per_cluster)\n",
    "\n",
    "display(num_images_per_cluster.sort_values(ascending = False))"
   ]
  },
  {
   "cell_type": "code",
   "execution_count": 1,
   "metadata": {},
   "outputs": [],
   "source": [
    "import pandas as pd\n",
    "import geopandas as gpd\n",
    "from scipy.spatial.distance import pdist, squareform\n",
    "from shapely.geometry import Point"
   ]
  },
  {
   "cell_type": "code",
   "execution_count": 4,
   "metadata": {},
   "outputs": [
    {
     "name": "stdout",
     "output_type": "stream",
     "text": [
      "Distance: 0.87 km\n"
     ]
    }
   ],
   "source": [
    "from math import radians, sin, cos, sqrt, atan2\n",
    "\n",
    "def haversine(lon1, lat1, lon2, lat2):\n",
    "    # Convert latitude and longitude from degrees to radians\n",
    "    lon1, lat1, lon2, lat2 = map(radians, [lon1, lat1, lon2, lat2])\n",
    "    \n",
    "    # Haversine formula\n",
    "    dlon = lon2 - lon1\n",
    "    dlat = lat2 - lat1\n",
    "    a = sin(dlat / 2)**2 + cos(lat1) * cos(lat2) * sin(dlon / 2)**2\n",
    "    c = 2 * atan2(sqrt(a), sqrt(1 - a))\n",
    "    \n",
    "    # Radius of Earth in kilometers. Use 3956 for miles. Determines return value units.\n",
    "    r = 6371\n",
    "    distance = r * c\n",
    "    return distance\n",
    "\n",
    "# Coordinates for the two points\n",
    "lon1, lat1 = -90.67098999999999, 38.45601\n",
    "lon2, lat2 = -90.66098999999998, 38.45601\n",
    "\n",
    "# Calculate distance\n",
    "distance_km = haversine(lon1, lat1, lon2, lat2)\n",
    "print(f\"Distance: {distance_km:.2f} km\")"
   ]
  },
  {
   "cell_type": "code",
   "execution_count": 2,
   "metadata": {},
   "outputs": [],
   "source": [
    "grid = gpd.read_file(\"/data/cher/universe7/herbarium/data/geocell/grid.geojson\")\n",
    "grid_key = pd.read_csv(\"/data/cher/universe7/herbarium/data/geocell/grid_key.csv\")"
   ]
  },
  {
   "cell_type": "code",
   "execution_count": 14,
   "metadata": {},
   "outputs": [
    {
     "name": "stderr",
     "output_type": "stream",
     "text": [
      "/tmp/ipykernel_732265/2479746997.py:1: UserWarning: Geometry is in a geographic CRS. Results from 'centroid' are likely incorrect. Use 'GeoSeries.to_crs()' to re-project geometries to a projected CRS before this operation.\n",
      "\n",
      "  grid['lon'], grid['lat'] = grid.centroid.x, grid.centroid.y\n"
     ]
    },
    {
     "data": {
      "text/html": [
       "<div>\n",
       "<style scoped>\n",
       "    .dataframe tbody tr th:only-of-type {\n",
       "        vertical-align: middle;\n",
       "    }\n",
       "\n",
       "    .dataframe tbody tr th {\n",
       "        vertical-align: top;\n",
       "    }\n",
       "\n",
       "    .dataframe thead th {\n",
       "        text-align: right;\n",
       "    }\n",
       "</style>\n",
       "<table border=\"1\" class=\"dataframe\">\n",
       "  <thead>\n",
       "    <tr style=\"text-align: right;\">\n",
       "      <th></th>\n",
       "      <th>key</th>\n",
       "      <th>geometry</th>\n",
       "      <th>lon</th>\n",
       "      <th>lat</th>\n",
       "    </tr>\n",
       "  </thead>\n",
       "  <tbody>\n",
       "    <tr>\n",
       "      <th>0</th>\n",
       "      <td>Virginia_0</td>\n",
       "      <td>POLYGON ((-80.32119 36.54086, -80.32119 36.545...</td>\n",
       "      <td>-80.324115</td>\n",
       "      <td>36.543162</td>\n",
       "    </tr>\n",
       "    <tr>\n",
       "      <th>1</th>\n",
       "      <td>Virginia_1</td>\n",
       "      <td>POLYGON ((-80.31533 36.54086, -80.31533 36.545...</td>\n",
       "      <td>-80.318262</td>\n",
       "      <td>36.543162</td>\n",
       "    </tr>\n",
       "    <tr>\n",
       "      <th>2</th>\n",
       "      <td>Virginia_2</td>\n",
       "      <td>POLYGON ((-80.30948 36.54086, -80.30948 36.545...</td>\n",
       "      <td>-80.312408</td>\n",
       "      <td>36.543162</td>\n",
       "    </tr>\n",
       "    <tr>\n",
       "      <th>3</th>\n",
       "      <td>Virginia_3</td>\n",
       "      <td>POLYGON ((-80.30363 36.54086, -80.30363 36.545...</td>\n",
       "      <td>-80.306554</td>\n",
       "      <td>36.543162</td>\n",
       "    </tr>\n",
       "    <tr>\n",
       "      <th>4</th>\n",
       "      <td>Virginia_4</td>\n",
       "      <td>POLYGON ((-80.29777 36.54086, -80.29777 36.545...</td>\n",
       "      <td>-80.300700</td>\n",
       "      <td>36.543162</td>\n",
       "    </tr>\n",
       "    <tr>\n",
       "      <th>...</th>\n",
       "      <td>...</td>\n",
       "      <td>...</td>\n",
       "      <td>...</td>\n",
       "      <td>...</td>\n",
       "    </tr>\n",
       "    <tr>\n",
       "      <th>420715</th>\n",
       "      <td>Virginia_420715</td>\n",
       "      <td>POLYGON ((-78.32506 39.45603, -78.32506 39.460...</td>\n",
       "      <td>-78.327982</td>\n",
       "      <td>39.458333</td>\n",
       "    </tr>\n",
       "    <tr>\n",
       "      <th>420716</th>\n",
       "      <td>Virginia_420716</td>\n",
       "      <td>POLYGON ((-78.34847 39.46064, -78.34847 39.465...</td>\n",
       "      <td>-78.351397</td>\n",
       "      <td>39.462946</td>\n",
       "    </tr>\n",
       "    <tr>\n",
       "      <th>420717</th>\n",
       "      <td>Virginia_420717</td>\n",
       "      <td>POLYGON ((-78.34262 39.46064, -78.34262 39.465...</td>\n",
       "      <td>-78.345543</td>\n",
       "      <td>39.462946</td>\n",
       "    </tr>\n",
       "    <tr>\n",
       "      <th>420718</th>\n",
       "      <td>Virginia_420718</td>\n",
       "      <td>POLYGON ((-78.33676 39.46064, -78.33676 39.465...</td>\n",
       "      <td>-78.339690</td>\n",
       "      <td>39.462946</td>\n",
       "    </tr>\n",
       "    <tr>\n",
       "      <th>420719</th>\n",
       "      <td>Virginia_420719</td>\n",
       "      <td>POLYGON ((-78.34262 39.46525, -78.34262 39.469...</td>\n",
       "      <td>-78.345543</td>\n",
       "      <td>39.467559</td>\n",
       "    </tr>\n",
       "  </tbody>\n",
       "</table>\n",
       "<p>420720 rows × 4 columns</p>\n",
       "</div>"
      ],
      "text/plain": [
       "                    key                                           geometry  \\\n",
       "0            Virginia_0  POLYGON ((-80.32119 36.54086, -80.32119 36.545...   \n",
       "1            Virginia_1  POLYGON ((-80.31533 36.54086, -80.31533 36.545...   \n",
       "2            Virginia_2  POLYGON ((-80.30948 36.54086, -80.30948 36.545...   \n",
       "3            Virginia_3  POLYGON ((-80.30363 36.54086, -80.30363 36.545...   \n",
       "4            Virginia_4  POLYGON ((-80.29777 36.54086, -80.29777 36.545...   \n",
       "...                 ...                                                ...   \n",
       "420715  Virginia_420715  POLYGON ((-78.32506 39.45603, -78.32506 39.460...   \n",
       "420716  Virginia_420716  POLYGON ((-78.34847 39.46064, -78.34847 39.465...   \n",
       "420717  Virginia_420717  POLYGON ((-78.34262 39.46064, -78.34262 39.465...   \n",
       "420718  Virginia_420718  POLYGON ((-78.33676 39.46064, -78.33676 39.465...   \n",
       "420719  Virginia_420719  POLYGON ((-78.34262 39.46525, -78.34262 39.469...   \n",
       "\n",
       "              lon        lat  \n",
       "0      -80.324115  36.543162  \n",
       "1      -80.318262  36.543162  \n",
       "2      -80.312408  36.543162  \n",
       "3      -80.306554  36.543162  \n",
       "4      -80.300700  36.543162  \n",
       "...           ...        ...  \n",
       "420715 -78.327982  39.458333  \n",
       "420716 -78.351397  39.462946  \n",
       "420717 -78.345543  39.462946  \n",
       "420718 -78.339690  39.462946  \n",
       "420719 -78.345543  39.467559  \n",
       "\n",
       "[420720 rows x 4 columns]"
      ]
     },
     "execution_count": 14,
     "metadata": {},
     "output_type": "execute_result"
    }
   ],
   "source": [
    "grid_w_observations = grid_within_state[grid_within_state['key'].isin(observations_in_cells['key'])]\n",
    "grid['lon'], grid['lat'] = grid.centroid.x, grid.centroid.y\n",
    "output_bbox_pt[['key', 'lon', 'lat']]"
   ]
  },
  {
   "cell_type": "code",
   "execution_count": 15,
   "metadata": {},
   "outputs": [
    {
     "data": {
      "text/html": [
       "<div>\n",
       "<style scoped>\n",
       "    .dataframe tbody tr th:only-of-type {\n",
       "        vertical-align: middle;\n",
       "    }\n",
       "\n",
       "    .dataframe tbody tr th {\n",
       "        vertical-align: top;\n",
       "    }\n",
       "\n",
       "    .dataframe thead th {\n",
       "        text-align: right;\n",
       "    }\n",
       "</style>\n",
       "<table border=\"1\" class=\"dataframe\">\n",
       "  <thead>\n",
       "    <tr style=\"text-align: right;\">\n",
       "      <th></th>\n",
       "      <th>604cee1e-de47-4bc1-995a-16a184ae23d0</th>\n",
       "      <th>Virginia_363421</th>\n",
       "    </tr>\n",
       "  </thead>\n",
       "  <tbody>\n",
       "    <tr>\n",
       "      <th>0</th>\n",
       "      <td>61d5d9b3-f30c-4ccc-861d-572d2d4cf594</td>\n",
       "      <td>Virginia_162625</td>\n",
       "    </tr>\n",
       "    <tr>\n",
       "      <th>1</th>\n",
       "      <td>62eaea3a-ed7e-4780-8c65-f8449218573b</td>\n",
       "      <td>Virginia_78531</td>\n",
       "    </tr>\n",
       "    <tr>\n",
       "      <th>2</th>\n",
       "      <td>6370692e-95d7-450d-b794-0bff0411abdb</td>\n",
       "      <td>Virginia_42488</td>\n",
       "    </tr>\n",
       "    <tr>\n",
       "      <th>3</th>\n",
       "      <td>645d9394-6b6c-41ff-a3c9-7cac6cea561b</td>\n",
       "      <td>Virginia_394992</td>\n",
       "    </tr>\n",
       "    <tr>\n",
       "      <th>4</th>\n",
       "      <td>67ffb10c-a349-4425-a093-e51c21cc4ad1</td>\n",
       "      <td>Virginia_278232</td>\n",
       "    </tr>\n",
       "    <tr>\n",
       "      <th>...</th>\n",
       "      <td>...</td>\n",
       "      <td>...</td>\n",
       "    </tr>\n",
       "    <tr>\n",
       "      <th>10992</th>\n",
       "      <td>917e250c-5bc2-4061-92ed-e88fb7911ee0</td>\n",
       "      <td>Virginia_85090</td>\n",
       "    </tr>\n",
       "    <tr>\n",
       "      <th>10993</th>\n",
       "      <td>6b14fda1-eb5d-43dd-ac55-6aad2c9344c1</td>\n",
       "      <td>Virginia_278232</td>\n",
       "    </tr>\n",
       "    <tr>\n",
       "      <th>10994</th>\n",
       "      <td>933ef55a-027f-40af-bbc9-bd513d7700d6</td>\n",
       "      <td>Virginia_359956</td>\n",
       "    </tr>\n",
       "    <tr>\n",
       "      <th>10995</th>\n",
       "      <td>6d6ae8e9-9405-41d7-ab77-08daab6faa22</td>\n",
       "      <td>Virginia_374426</td>\n",
       "    </tr>\n",
       "    <tr>\n",
       "      <th>10996</th>\n",
       "      <td>6f63ab2c-2694-4ea0-9f3b-4193c0e195b9</td>\n",
       "      <td>Virginia_405585</td>\n",
       "    </tr>\n",
       "  </tbody>\n",
       "</table>\n",
       "<p>10997 rows × 2 columns</p>\n",
       "</div>"
      ],
      "text/plain": [
       "       604cee1e-de47-4bc1-995a-16a184ae23d0  Virginia_363421\n",
       "0      61d5d9b3-f30c-4ccc-861d-572d2d4cf594  Virginia_162625\n",
       "1      62eaea3a-ed7e-4780-8c65-f8449218573b   Virginia_78531\n",
       "2      6370692e-95d7-450d-b794-0bff0411abdb   Virginia_42488\n",
       "3      645d9394-6b6c-41ff-a3c9-7cac6cea561b  Virginia_394992\n",
       "4      67ffb10c-a349-4425-a093-e51c21cc4ad1  Virginia_278232\n",
       "...                                     ...              ...\n",
       "10992  917e250c-5bc2-4061-92ed-e88fb7911ee0   Virginia_85090\n",
       "10993  6b14fda1-eb5d-43dd-ac55-6aad2c9344c1  Virginia_278232\n",
       "10994  933ef55a-027f-40af-bbc9-bd513d7700d6  Virginia_359956\n",
       "10995  6d6ae8e9-9405-41d7-ab77-08daab6faa22  Virginia_374426\n",
       "10996  6f63ab2c-2694-4ea0-9f3b-4193c0e195b9  Virginia_405585\n",
       "\n",
       "[10997 rows x 2 columns]"
      ]
     },
     "execution_count": 15,
     "metadata": {},
     "output_type": "execute_result"
    }
   ],
   "source": [
    "grid_key"
   ]
  },
  {
   "cell_type": "code",
   "execution_count": 71,
   "metadata": {},
   "outputs": [],
   "source": [
    "### sanity checks\n",
    "# Are places assigned to the same cluster within 512 meters of one another?\n",
    "habitat_gdf_w_bbox_cluster = gdf.merge(cluster_assignments, on = ['occurrenceID'])\n",
    "\n",
    "ex = habitat_gdf_w_bbox_cluster[habitat_gdf_w_bbox_cluster['stateProvince'] == 'New York']"
   ]
  },
  {
   "cell_type": "code",
   "execution_count": null,
   "metadata": {},
   "outputs": [],
   "source": [
    "# Use grid cells across US that have occurrences for query of images.\n",
    "# sentinal2_key.csv -- Source - gbif, key - numeric_key, lat, lon  \n",
    "# obs_id2key .csv -- [Source, obs_id, key, bbox_bounds]"
   ]
  }
 ],
 "metadata": {
  "kernelspec": {
   "display_name": "obsdep",
   "language": "python",
   "name": "obsdep"
  },
  "language_info": {
   "codemirror_mode": {
    "name": "ipython",
    "version": 3
   },
   "file_extension": ".py",
   "mimetype": "text/x-python",
   "name": "python",
   "nbconvert_exporter": "python",
   "pygments_lexer": "ipython3",
   "version": "3.12.6"
  }
 },
 "nbformat": 4,
 "nbformat_minor": 2
}
